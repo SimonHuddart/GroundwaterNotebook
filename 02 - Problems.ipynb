{
 "cells": [
  {
   "cell_type": "markdown",
   "id": "81e81a9d-d969-46e7-ba90-f37646104882",
   "metadata": {},
   "source": [
    "# Problems sets from Chapter 2\n",
    "\n",
    "Problems for chapter 2 are found [here](https://archive.org/details/groundwater-freeze-and-cherry-1979/page/n94/mode/1up)."
   ]
  },
  {
   "cell_type": "markdown",
   "id": "86178fa5-5e69-4e55-98da-1e43f98e783c",
   "metadata": {},
   "source": [
    "## Problem 2-1\n",
    " The following field notes were taken at a nest of piezometers installed side by side at a single site:\n",
    "\n",
    "| Piezometer | a | b | c |\n",
    "| - | - | - | -|\n",
    "| Elevation at surface (m a.s.l.) | 450 | 450 | 450 |\n",
    "| Depth of piezometer (m)| 150 |100 |50|\n",
    "|Depth to water (m)| 27| 47| 36|\n",
    "\n",
    "Let A, B, and C refer to the points of measurement of piezometers a , b, and c. Calculate:\n",
    "\n",
    "(a) The hydraulic head at A, B, and C (m).\n",
    "\n",
    "(b) The pressure head at A, B, and C (m),\n",
    "\n",
    "(c) The elevation head at A , B, and C (m).\n",
    "\n",
    "(d) The fluid pressure at B (N/m 2 ).\n",
    "\n",
    "(e) The hydraulic gradients between A and B and between B and C. Can you conceive of a hydrogeological situation that would lead to the directions of flow indicated by these data?"
   ]
  },
  {
   "cell_type": "markdown",
   "id": "90dd9aec-24bd-4746-b4bd-4e821d754c1e",
   "metadata": {},
   "source": [
    "## Problem Solving\n",
    "\n",
    "Artists interpretation of the scenario:\n",
    "![Figure of problem 2-1](static/2-1_fig.png)\n",
    "\n",
    "### Hydraulic Head\n",
    "hydraulic head is elevation head plus pressure head \n",
    "$$ h = z + \\psi $$\n",
    "\n",
    "However we are given the surface elevation of each well above sea level (450m asl) and the depth to water of each well so we can just as easily calculate the hydraulic head by subtracting the depth to water from the surface elevation.\n",
    "$$h = elevation - water \\, level$$\n",
    "\n",
    "### Pressure Head\n",
    "The pressure head ($\\psi$ or $h_p$) is height of the water above the piezometer measuring point. We can calculate this by subtracting the depth to water from the well depth\n",
    "\n",
    "$$h_p = well \\, depth - water \\, level$$\n",
    "\n",
    "### Elevation Head\n",
    "\n",
    "The elevation head is the distance from the measuring point to the datum (sea level). Calculated by subtracting the well depth from the surface elevation.\n",
    "\n",
    "$$h_z = surface \\, elevation - well \\, depth$$\n",
    "\n",
    "### Fluid pressure\n",
    "from Eq 2.11 we can see that fluid pressure is:\n",
    "$$ p = \\rho g \\psi + p_o$$\n",
    "or for our purposes:\n",
    "$$ p = \\rho g (h-h_z) + p_o$$\n",
    "since we're dealing with water on earth, we know that $\\rho = 1000\\frac{kg}{m^3}$ and $g=9.8\\frac{m}{s^s}$ and we will work in gage pressure to assume that atmospheric pressure is zero ($p_o=0$).\n",
    "so to calculate the fluid pressure at piezometer a:\n",
    "$$ p_a = 1000\\frac{kg}{m^3}*9.8\\frac{m}{s^2}*(423m-300m)=1,205,400 \\; Pa \\quad \\text{or} \\quad 1.2 \\; MPa$$"
   ]
  },
  {
   "cell_type": "code",
   "execution_count": 65,
   "id": "67b0f029-c855-45c7-bd68-681172c6b698",
   "metadata": {},
   "outputs": [],
   "source": [
    "piezometers = ['a', 'b', 'c']\n",
    "surfaceElevation = [450,450,450]\n",
    "wellDepth = [150,100,50]\n",
    "waterLevel = [27,47,36]"
   ]
  },
  {
   "cell_type": "code",
   "execution_count": 66,
   "id": "7b095c72-b528-4665-afb9-ea7009c6e219",
   "metadata": {},
   "outputs": [
    {
     "name": "stdout",
     "output_type": "stream",
     "text": [
      "The hydraulic head at piezometer a is 423m\n",
      "The hydraulic head at piezometer b is 403m\n",
      "The hydraulic head at piezometer c is 414m\n",
      "[423, 403, 414]\n"
     ]
    }
   ],
   "source": [
    "# (a) hydraulic heads\n",
    "hydraulicHead=[]\n",
    "for i in range(len(piezometers)):\n",
    "    h = surfaceElevation[i] - waterLevel[i]\n",
    "    hydraulicHead.append(h)\n",
    "    print(f\"The hydraulic head at piezometer {piezometers[i]} is {hydraulicHead[i]}m\")\n",
    "print(hydraulicHead)"
   ]
  },
  {
   "cell_type": "code",
   "execution_count": 67,
   "id": "818fdba8-6d4a-4f35-a112-d7519a2ecfe8",
   "metadata": {},
   "outputs": [
    {
     "name": "stdout",
     "output_type": "stream",
     "text": [
      "The pressure head at piezometer a is 123m\n",
      "The pressure head at piezometer b is 53m\n",
      "The pressure head at piezometer c is 14m\n",
      "[123, 53, 14]\n"
     ]
    }
   ],
   "source": [
    "# (b) pressure heads\n",
    "pressureHead=[]\n",
    "for i in range(len(piezometers)):\n",
    "    hp = wellDepth[i] - waterLevel[i]\n",
    "    pressureHead.append(hp)\n",
    "    print(f\"The pressure head at piezometer {piezometers[i]} is {pressureHead[i]}m\")\n",
    "print(pressureHead)"
   ]
  },
  {
   "cell_type": "code",
   "execution_count": 68,
   "id": "48018e87-87d5-4523-a63c-2db55205179c",
   "metadata": {},
   "outputs": [
    {
     "name": "stdout",
     "output_type": "stream",
     "text": [
      "The elevation head at piezometer a is 300m\n",
      "The elevation head at piezometer b is 350m\n",
      "The elevation head at piezometer c is 400m\n",
      "[300, 350, 400]\n"
     ]
    }
   ],
   "source": [
    "# (c) elevation heads\n",
    "elevationHead=[]\n",
    "for i in range(len(piezometers)):\n",
    "    hz = surfaceElevation[i] - wellDepth[i]\n",
    "    elevationHead.append(hz)\n",
    "    print(f\"The elevation head at piezometer {piezometers[i]} is {elevationHead[i]}m\")\n",
    "print(elevationHead)"
   ]
  },
  {
   "cell_type": "code",
   "execution_count": 69,
   "id": "f8de635f-e0ff-4b2f-8ea8-034c22eeb959",
   "metadata": {},
   "outputs": [
    {
     "name": "stdout",
     "output_type": "stream",
     "text": [
      "The fluid pressure at piezometer a is 1205400.0 Pa\n",
      "The fluid pressure at piezometer b is 519400.0 Pa\n",
      "The fluid pressure at piezometer c is 137200.0 Pa\n",
      "[1205400.0, 519400.0, 137200.0]\n"
     ]
    }
   ],
   "source": [
    "# (d) fluid pressure\n",
    "fluidPressure=[]\n",
    "rho = 1000\n",
    "g = 9.8\n",
    "for i in range(len(piezometers)):\n",
    "    p = rho * g * (hydraulicHead[i] - elevationHead[i])\n",
    "    fluidPressure.append(p)\n",
    "    print(f\"The fluid pressure at piezometer {piezometers[i]} is {fluidPressure[i]} Pa\")\n",
    "print(fluidPressure)\n",
    "   "
   ]
  },
  {
   "cell_type": "code",
   "execution_count": 70,
   "id": "cff15251-6792-4440-880f-78f61598dd8c",
   "metadata": {},
   "outputs": [
    {
     "name": "stdout",
     "output_type": "stream",
     "text": [
      "the gradient between piezometers a and b is -0.4\n",
      "the gradient between piezometers b and c is 0.22\n"
     ]
    }
   ],
   "source": [
    "# (e) hydraulic gradients\n",
    "def gradient(h1,h2,l1,l2):\n",
    "    dh = h2-h1\n",
    "    dl = l2-l1\n",
    "    return dh/dl\n",
    "\n",
    "# for a-b\n",
    "gradient_ab = gradient(hydraulicHead[0],hydraulicHead[1],elevationHead[0],elevationHead[1])\n",
    "print(f\"the gradient between piezometers a and b is {gradient_ab}\")\n",
    "# for b-c\n",
    "gradient_bc = gradient(hydraulicHead[1],hydraulicHead[2],elevationHead[1],elevationHead[2])\n",
    "print(f\"the gradient between piezometers b and c is {gradient_bc}\")"
   ]
  },
  {
   "cell_type": "code",
   "execution_count": null,
   "id": "2db1feb1-655d-4080-9d5e-88de04c55ff8",
   "metadata": {},
   "outputs": [],
   "source": []
  }
 ],
 "metadata": {
  "kernelspec": {
   "display_name": "Python 3 (ipykernel)",
   "language": "python",
   "name": "python3"
  },
  "language_info": {
   "codemirror_mode": {
    "name": "ipython",
    "version": 3
   },
   "file_extension": ".py",
   "mimetype": "text/x-python",
   "name": "python",
   "nbconvert_exporter": "python",
   "pygments_lexer": "ipython3",
   "version": "3.10.7"
  }
 },
 "nbformat": 4,
 "nbformat_minor": 5
}
