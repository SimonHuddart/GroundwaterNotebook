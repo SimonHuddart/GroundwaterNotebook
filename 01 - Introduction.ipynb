{
 "cells": [
  {
   "cell_type": "markdown",
   "id": "ecafb9e2",
   "metadata": {},
   "source": [
    "# Preface\n",
    "\n",
    "On a lark in October 2023, I decided I wanted to review the textbook *Groundwater* by Freeze and Cherry, originally published in 1979. At the same time, I wanted to brush up on some python programming and practical hydrological modelling skills.\n",
    "\n",
    "This series of notebooks is to be my attempt to progress through the text and try to replicate the lessons and equations using standard python libraries (Scipy, Numpy, Pandas, MatPlotLib, etc.)\n",
    "\n",
    "For those who would like to follow along with the original text or point out my mistakes, a full archival version of the textbook is available [here](https://archive.org/details/groundwater-freeze-and-cherry-1979/mode/1up)."
   ]
  },
  {
   "cell_type": "markdown",
   "id": "d1e3b41c-193b-45c0-96ab-8df43abb65f2",
   "metadata": {},
   "source": [
    "# Chapter 1: Introduction\n",
    "\n",
    "This chapter provides a good start as to why all this might be interesting. I'm not a good enough author to summarize, so I suggest you start [here](https://archive.org/details/groundwater-freeze-and-cherry-1979/page/n17/mode/1up)"
   ]
  }
 ],
 "metadata": {
  "kernelspec": {
   "display_name": "Python 3 (ipykernel)",
   "language": "python",
   "name": "python3"
  },
  "language_info": {
   "codemirror_mode": {
    "name": "ipython",
    "version": 3
   },
   "file_extension": ".py",
   "mimetype": "text/x-python",
   "name": "python",
   "nbconvert_exporter": "python",
   "pygments_lexer": "ipython3",
   "version": "3.10.7"
  }
 },
 "nbformat": 4,
 "nbformat_minor": 5
}
